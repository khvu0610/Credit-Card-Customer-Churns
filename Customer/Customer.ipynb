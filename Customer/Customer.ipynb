{
 "cells": [
  {
   "cell_type": "code",
   "execution_count": 1,
   "metadata": {},
   "outputs": [],
   "source": [
    "import pandas as pd\n",
    "import numpy as np\n",
    "import matplotlib.pyplot as plt\n",
    "import seaborn as sns\n",
    "import datetime as dt"
   ]
  },
  {
   "cell_type": "code",
   "execution_count": 3,
   "metadata": {},
   "outputs": [
    {
     "data": {
      "text/html": [
       "<div>\n",
       "<style scoped>\n",
       "    .dataframe tbody tr th:only-of-type {\n",
       "        vertical-align: middle;\n",
       "    }\n",
       "\n",
       "    .dataframe tbody tr th {\n",
       "        vertical-align: top;\n",
       "    }\n",
       "\n",
       "    .dataframe thead th {\n",
       "        text-align: right;\n",
       "    }\n",
       "</style>\n",
       "<table border=\"1\" class=\"dataframe\">\n",
       "  <thead>\n",
       "    <tr style=\"text-align: right;\">\n",
       "      <th></th>\n",
       "      <th>age</th>\n",
       "      <th>workclass</th>\n",
       "      <th>education</th>\n",
       "      <th>education.num</th>\n",
       "      <th>marital.status</th>\n",
       "      <th>occupation</th>\n",
       "      <th>relationship</th>\n",
       "      <th>race</th>\n",
       "      <th>sex</th>\n",
       "      <th>capital.gain</th>\n",
       "      <th>...</th>\n",
       "      <th>native.country</th>\n",
       "      <th>income</th>\n",
       "      <th>Customer City</th>\n",
       "      <th>customer_id</th>\n",
       "      <th>Customer Fname</th>\n",
       "      <th>Customer Lname</th>\n",
       "      <th>Customer Email</th>\n",
       "      <th>Customer Password</th>\n",
       "      <th>PLACE_OF_RECEIVERS 1</th>\n",
       "      <th>native.country\\t</th>\n",
       "    </tr>\n",
       "  </thead>\n",
       "  <tbody>\n",
       "    <tr>\n",
       "      <th>0</th>\n",
       "      <td>90.0</td>\n",
       "      <td>Private</td>\n",
       "      <td>HS-grad</td>\n",
       "      <td>9.0</td>\n",
       "      <td>Widowed</td>\n",
       "      <td>Prof-specialty</td>\n",
       "      <td>Not-in-family</td>\n",
       "      <td>White</td>\n",
       "      <td>Female</td>\n",
       "      <td>0.0</td>\n",
       "      <td>...</td>\n",
       "      <td>United-States</td>\n",
       "      <td>&lt;=50K</td>\n",
       "      <td>Oak Lawn</td>\n",
       "      <td>72c00ba8bc7</td>\n",
       "      <td>Mary</td>\n",
       "      <td>Barnes</td>\n",
       "      <td>XXXXXXXXX</td>\n",
       "      <td>XXXXXXXXX</td>\n",
       "      <td>Chincoteague Island</td>\n",
       "      <td>United-States</td>\n",
       "    </tr>\n",
       "    <tr>\n",
       "      <th>1</th>\n",
       "      <td>82.0</td>\n",
       "      <td>Private</td>\n",
       "      <td>HS-grad</td>\n",
       "      <td>9.0</td>\n",
       "      <td>Widowed</td>\n",
       "      <td>Exec-managerial</td>\n",
       "      <td>Not-in-family</td>\n",
       "      <td>White</td>\n",
       "      <td>Female</td>\n",
       "      <td>0.0</td>\n",
       "      <td>...</td>\n",
       "      <td>United-States</td>\n",
       "      <td>&lt;=50K</td>\n",
       "      <td>Caguas</td>\n",
       "      <td>b18a428ac77</td>\n",
       "      <td>Brittany</td>\n",
       "      <td>Smith</td>\n",
       "      <td>XXXXXXXXX</td>\n",
       "      <td>XXXXXXXXX</td>\n",
       "      <td>Exmore</td>\n",
       "      <td>United-States</td>\n",
       "    </tr>\n",
       "    <tr>\n",
       "      <th>2</th>\n",
       "      <td>66.0</td>\n",
       "      <td>Private</td>\n",
       "      <td>Some-college</td>\n",
       "      <td>10.0</td>\n",
       "      <td>Widowed</td>\n",
       "      <td>Prof-specialty</td>\n",
       "      <td>Unmarried</td>\n",
       "      <td>Black</td>\n",
       "      <td>Female</td>\n",
       "      <td>0.0</td>\n",
       "      <td>...</td>\n",
       "      <td>United-States</td>\n",
       "      <td>&lt;=50K</td>\n",
       "      <td>Caguas</td>\n",
       "      <td>2fdd0374a03</td>\n",
       "      <td>Jennifer</td>\n",
       "      <td>Smith</td>\n",
       "      <td>XXXXXXXXX</td>\n",
       "      <td>XXXXXXXXX</td>\n",
       "      <td>Lawrenceville</td>\n",
       "      <td>United-States</td>\n",
       "    </tr>\n",
       "    <tr>\n",
       "      <th>3</th>\n",
       "      <td>54.0</td>\n",
       "      <td>Private</td>\n",
       "      <td>7th-8th</td>\n",
       "      <td>4.0</td>\n",
       "      <td>Divorced</td>\n",
       "      <td>Machine-op-inspct</td>\n",
       "      <td>Unmarried</td>\n",
       "      <td>White</td>\n",
       "      <td>Female</td>\n",
       "      <td>0.0</td>\n",
       "      <td>...</td>\n",
       "      <td>United-States</td>\n",
       "      <td>&lt;=50K</td>\n",
       "      <td>Caguas</td>\n",
       "      <td>dc6358b12c3</td>\n",
       "      <td>Mary</td>\n",
       "      <td>Smith</td>\n",
       "      <td>XXXXXXXXX</td>\n",
       "      <td>XXXXXXXXX</td>\n",
       "      <td>Midlothian</td>\n",
       "      <td>United-States</td>\n",
       "    </tr>\n",
       "    <tr>\n",
       "      <th>4</th>\n",
       "      <td>41.0</td>\n",
       "      <td>Private</td>\n",
       "      <td>Some-college</td>\n",
       "      <td>10.0</td>\n",
       "      <td>Separated</td>\n",
       "      <td>Prof-specialty</td>\n",
       "      <td>Own-child</td>\n",
       "      <td>White</td>\n",
       "      <td>Female</td>\n",
       "      <td>0.0</td>\n",
       "      <td>...</td>\n",
       "      <td>United-States</td>\n",
       "      <td>&lt;=50K</td>\n",
       "      <td>Columbus</td>\n",
       "      <td>c12e35b23ad</td>\n",
       "      <td>Mary</td>\n",
       "      <td>Wright</td>\n",
       "      <td>XXXXXXXXX</td>\n",
       "      <td>XXXXXXXXX</td>\n",
       "      <td>Virginia Beach</td>\n",
       "      <td>United-States</td>\n",
       "    </tr>\n",
       "  </tbody>\n",
       "</table>\n",
       "<p>5 rows × 22 columns</p>\n",
       "</div>"
      ],
      "text/plain": [
       "    age workclass     education  education.num marital.status  \\\n",
       "0  90.0   Private       HS-grad            9.0        Widowed   \n",
       "1  82.0   Private       HS-grad            9.0        Widowed   \n",
       "2  66.0   Private  Some-college           10.0        Widowed   \n",
       "3  54.0   Private       7th-8th            4.0       Divorced   \n",
       "4  41.0   Private  Some-college           10.0      Separated   \n",
       "\n",
       "          occupation   relationship   race     sex  capital.gain  ...  \\\n",
       "0     Prof-specialty  Not-in-family  White  Female           0.0  ...   \n",
       "1    Exec-managerial  Not-in-family  White  Female           0.0  ...   \n",
       "2     Prof-specialty      Unmarried  Black  Female           0.0  ...   \n",
       "3  Machine-op-inspct      Unmarried  White  Female           0.0  ...   \n",
       "4     Prof-specialty      Own-child  White  Female           0.0  ...   \n",
       "\n",
       "   native.country  income Customer City  customer_id Customer Fname  \\\n",
       "0   United-States   <=50K      Oak Lawn  72c00ba8bc7           Mary   \n",
       "1   United-States   <=50K        Caguas  b18a428ac77       Brittany   \n",
       "2   United-States   <=50K        Caguas  2fdd0374a03       Jennifer   \n",
       "3   United-States   <=50K        Caguas  dc6358b12c3           Mary   \n",
       "4   United-States   <=50K      Columbus  c12e35b23ad           Mary   \n",
       "\n",
       "  Customer Lname Customer Email Customer Password PLACE_OF_RECEIVERS 1  \\\n",
       "0         Barnes      XXXXXXXXX         XXXXXXXXX  Chincoteague Island   \n",
       "1          Smith      XXXXXXXXX         XXXXXXXXX               Exmore   \n",
       "2          Smith      XXXXXXXXX         XXXXXXXXX        Lawrenceville   \n",
       "3          Smith      XXXXXXXXX         XXXXXXXXX           Midlothian   \n",
       "4         Wright      XXXXXXXXX         XXXXXXXXX       Virginia Beach   \n",
       "\n",
       "  native.country\\t  \n",
       "0    United-States  \n",
       "1    United-States  \n",
       "2    United-States  \n",
       "3    United-States  \n",
       "4    United-States  \n",
       "\n",
       "[5 rows x 22 columns]"
      ]
     },
     "execution_count": 3,
     "metadata": {},
     "output_type": "execute_result"
    }
   ],
   "source": [
    "# read data\n",
    "df = pd.read_csv('../Data/Customer.csv')\n",
    "df.head()"
   ]
  },
  {
   "cell_type": "code",
   "execution_count": 4,
   "metadata": {},
   "outputs": [
    {
     "name": "stdout",
     "output_type": "stream",
     "text": [
      "<class 'pandas.core.frame.DataFrame'>\n",
      "RangeIndex: 10005 entries, 0 to 10004\n",
      "Data columns (total 22 columns):\n",
      " #   Column                Non-Null Count  Dtype  \n",
      "---  ------                --------------  -----  \n",
      " 0   age                   10005 non-null  float64\n",
      " 1   workclass             10005 non-null  object \n",
      " 2   education             10005 non-null  object \n",
      " 3   education.num         10005 non-null  float64\n",
      " 4   marital.status        10005 non-null  object \n",
      " 5   occupation            10005 non-null  object \n",
      " 6   relationship          10005 non-null  object \n",
      " 7   race                  10005 non-null  object \n",
      " 8   sex                   10005 non-null  object \n",
      " 9   capital.gain          10005 non-null  float64\n",
      " 10  capital.loss          10005 non-null  float64\n",
      " 11  hours.per.week        10005 non-null  float64\n",
      " 12  native.country        10005 non-null  object \n",
      " 13  income                10005 non-null  object \n",
      " 14  Customer City         10005 non-null  object \n",
      " 15  customer_id           10005 non-null  object \n",
      " 16  Customer Fname        10005 non-null  object \n",
      " 17  Customer Lname        10005 non-null  object \n",
      " 18  Customer Email        10005 non-null  object \n",
      " 19  Customer Password     10005 non-null  object \n",
      " 20  PLACE_OF_RECEIVERS 1  10005 non-null  object \n",
      " 21  native.country\t       10005 non-null  object \n",
      "dtypes: float64(5), object(17)\n",
      "memory usage: 1.7+ MB\n"
     ]
    }
   ],
   "source": [
    "df.info()"
   ]
  },
  {
   "cell_type": "code",
   "execution_count": 15,
   "metadata": {},
   "outputs": [
    {
     "data": {
      "image/png": "[encoded data removed]",
      "text/plain": [
       "<Figure size 720x360 with 1 Axes>"
      ]
     },
     "metadata": {
      "needs_background": "light"
     },
     "output_type": "display_data"
    }
   ],
   "source": [
    "# vẽ 10 city có nhiều khách hàng nhất\n",
    "# ta nhóm dữ liệu theo city, đếm số lượng khách hàng theo id độc nhất và sắp xếp giảm dần\n",
    "df.groupby('Customer City')['customer_id'].nunique().sort_values(ascending=False).head(10).plot.barh(figsize=(10, 5))\n",
    "plt.title('10 thành phố có nhiều khách hàng nhất')\n",
    "plt.xlabel('City')\n",
    "plt.ylabel('Number of customers')\n",
    "plt.gca().invert_yaxis()\n",
    "plt.show()"
   ]
  },
  {
   "attachments": {},
   "cell_type": "markdown",
   "metadata": {},
   "source": [
    "Nhận xét: ta thấy Caguas là thành phố có số lượng khách hàng nhiều vượt trội so với các thành phố còn lại"
   ]
  },
  {
   "cell_type": "code",
   "execution_count": 16,
   "metadata": {},
   "outputs": [
    {
     "data": {
      "image/png": "[encoded data removed]",
      "text/plain": [
       "<Figure size 720x360 with 1 Axes>"
      ]
     },
     "metadata": {},
     "output_type": "display_data"
    }
   ],
   "source": [
    "# tỉ lệ khách hàng theo giới tính\n",
    "plt.figure(figsize=(10,5))\n",
    "df.sex.value_counts().plot(kind='pie', autopct='%1.1f%%')\n",
    "plt.show()"
   ]
  },
  {
   "attachments": {},
   "cell_type": "markdown",
   "metadata": {},
   "source": [
    "Nhận xét: ta thấy tỉ lệ khách hàng là nam giới (70,4 %) cao hơn khách hàng là nữ giới (29,6 %)"
   ]
  },
  {
   "cell_type": "code",
   "execution_count": null,
   "metadata": {},
   "outputs": [],
   "source": []
  }
 ],
 "metadata": {
  "kernelspec": {
   "display_name": "base",
   "language": "python",
   "name": "python3"
  },
  "language_info": {
   "codemirror_mode": {
    "name": "ipython",
    "version": 3
   },
   "file_extension": ".py",
   "mimetype": "text/x-python",
   "name": "python",
   "nbconvert_exporter": "python",
   "pygments_lexer": "ipython3",
   "version": "3.9.12"
  },
  "orig_nbformat": 4
 },
 "nbformat": 4,
 "nbformat_minor": 2
}
