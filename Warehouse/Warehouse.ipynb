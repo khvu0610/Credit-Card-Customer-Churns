{
 "cells": [
  {
   "cell_type": "code",
   "execution_count": 1,
   "metadata": {},
   "outputs": [],
   "source": [
    "import pandas as pd\n",
    "import numpy as np\n",
    "import matplotlib.pyplot as plt\n",
    "import seaborn as sns\n",
    "import datetime as dt"
   ]
  },
  {
   "cell_type": "code",
   "execution_count": 2,
   "metadata": {},
   "outputs": [
    {
     "data": {
      "text/html": [
       "<div>\n",
       "<style scoped>\n",
       "    .dataframe tbody tr th:only-of-type {\n",
       "        vertical-align: middle;\n",
       "    }\n",
       "\n",
       "    .dataframe tbody tr th {\n",
       "        vertical-align: top;\n",
       "    }\n",
       "\n",
       "    .dataframe thead th {\n",
       "        text-align: right;\n",
       "    }\n",
       "</style>\n",
       "<table border=\"1\" class=\"dataframe\">\n",
       "  <thead>\n",
       "    <tr style=\"text-align: right;\">\n",
       "      <th></th>\n",
       "      <th>buildingSize</th>\n",
       "      <th>listingDate</th>\n",
       "      <th>propType</th>\n",
       "      <th>spaceAvailable</th>\n",
       "      <th>spaces</th>\n",
       "      <th>state</th>\n",
       "      <th>subType</th>\n",
       "      <th>yearBuilt</th>\n",
       "      <th>yearRenovated</th>\n",
       "      <th>propInfo</th>\n",
       "      <th>ceilingHeight</th>\n",
       "      <th>lat</th>\n",
       "      <th>lon</th>\n",
       "      <th>spaceClass</th>\n",
       "      <th>Warehouse_block</th>\n",
       "      <th>Warehouse_city</th>\n",
       "      <th>Mode_of_Shipment</th>\n",
       "      <th>Name of charged warehouse's employee</th>\n",
       "      <th>LOADING_DATE</th>\n",
       "      <th>DELIVERED_TO_WAREHOUSE_DATE</th>\n",
       "    </tr>\n",
       "  </thead>\n",
       "  <tbody>\n",
       "    <tr>\n",
       "      <th>0</th>\n",
       "      <td>243072.0</td>\n",
       "      <td>2019-02-28</td>\n",
       "      <td>Industrial</td>\n",
       "      <td>243072.0</td>\n",
       "      <td>1.0</td>\n",
       "      <td>Newyork</td>\n",
       "      <td>Office, Industrial</td>\n",
       "      <td>1968.0</td>\n",
       "      <td>2005.0</td>\n",
       "      <td>available for lease,dock high &amp; drive-in door,...</td>\n",
       "      <td>16.0</td>\n",
       "      <td>40.771447</td>\n",
       "      <td>-72.94663</td>\n",
       "      <td>large</td>\n",
       "      <td>Warehouse D</td>\n",
       "      <td>New York</td>\n",
       "      <td>Air</td>\n",
       "      <td>Carys Mathis</td>\n",
       "      <td>2021-05-27</td>\n",
       "      <td>2021-06-24</td>\n",
       "    </tr>\n",
       "    <tr>\n",
       "      <th>1</th>\n",
       "      <td>23000.0</td>\n",
       "      <td>2019-07-15</td>\n",
       "      <td>Industrial</td>\n",
       "      <td>23000.0</td>\n",
       "      <td>4.0</td>\n",
       "      <td>California</td>\n",
       "      <td>Industrial</td>\n",
       "      <td>1943.0</td>\n",
       "      <td>2002.0</td>\n",
       "      <td>convenient location just off wilkinson blvd./ ...</td>\n",
       "      <td>16.0</td>\n",
       "      <td>41.686778</td>\n",
       "      <td>-83.43943</td>\n",
       "      <td>medium</td>\n",
       "      <td>Warehouse F</td>\n",
       "      <td>San Jose</td>\n",
       "      <td>Air</td>\n",
       "      <td>Martina Weaver</td>\n",
       "      <td>2021-05-27</td>\n",
       "      <td>2021-06-24</td>\n",
       "    </tr>\n",
       "    <tr>\n",
       "      <th>2</th>\n",
       "      <td>19764.0</td>\n",
       "      <td>2019-11-04</td>\n",
       "      <td>Industrial</td>\n",
       "      <td>19764.0</td>\n",
       "      <td>1.0</td>\n",
       "      <td>Alabama</td>\n",
       "      <td>Office, Retail</td>\n",
       "      <td>2020.0</td>\n",
       "      <td>2021.0</td>\n",
       "      <td>new space, never previously occupied,lease rat...</td>\n",
       "      <td>16.0</td>\n",
       "      <td>35.248292</td>\n",
       "      <td>-80.82748</td>\n",
       "      <td>medium</td>\n",
       "      <td>Warehouse A</td>\n",
       "      <td>Birmingham</td>\n",
       "      <td>Air</td>\n",
       "      <td>Bethan Chen</td>\n",
       "      <td>2021-04-20</td>\n",
       "      <td>2021-05-18</td>\n",
       "    </tr>\n",
       "    <tr>\n",
       "      <th>3</th>\n",
       "      <td>3600.0</td>\n",
       "      <td>2020-01-16</td>\n",
       "      <td>Industrial</td>\n",
       "      <td>3600.0</td>\n",
       "      <td>1.0</td>\n",
       "      <td>California</td>\n",
       "      <td>Industrial</td>\n",
       "      <td>1995.0</td>\n",
       "      <td>2010.0</td>\n",
       "      <td>listed rate may not include certain utilitie...</td>\n",
       "      <td>16.0</td>\n",
       "      <td>36.080707</td>\n",
       "      <td>-80.02440</td>\n",
       "      <td>small</td>\n",
       "      <td>Warehouse B</td>\n",
       "      <td>San Jose</td>\n",
       "      <td>Air</td>\n",
       "      <td>Taya Collins</td>\n",
       "      <td>2021-05-28</td>\n",
       "      <td>2021-06-25</td>\n",
       "    </tr>\n",
       "    <tr>\n",
       "      <th>4</th>\n",
       "      <td>18000.0</td>\n",
       "      <td>2015-11-11</td>\n",
       "      <td>Industrial</td>\n",
       "      <td>18000.0</td>\n",
       "      <td>2.0</td>\n",
       "      <td>Massachusetts</td>\n",
       "      <td>Industrial</td>\n",
       "      <td>1977.0</td>\n",
       "      <td>2002.0</td>\n",
       "      <td>upgraded to led lighting,fenced and gated lay ...</td>\n",
       "      <td>16.0</td>\n",
       "      <td>40.627946</td>\n",
       "      <td>-73.94552</td>\n",
       "      <td>medium</td>\n",
       "      <td>Warehouse C</td>\n",
       "      <td>Boston</td>\n",
       "      <td>Air</td>\n",
       "      <td>India Curtis</td>\n",
       "      <td>2021-05-27</td>\n",
       "      <td>2021-06-24</td>\n",
       "    </tr>\n",
       "  </tbody>\n",
       "</table>\n",
       "</div>"
      ],
      "text/plain": [
       "   buildingSize listingDate    propType  spaceAvailable  spaces  \\\n",
       "0      243072.0  2019-02-28  Industrial        243072.0     1.0   \n",
       "1       23000.0  2019-07-15  Industrial         23000.0     4.0   \n",
       "2       19764.0  2019-11-04  Industrial         19764.0     1.0   \n",
       "3        3600.0  2020-01-16  Industrial          3600.0     1.0   \n",
       "4       18000.0  2015-11-11  Industrial         18000.0     2.0   \n",
       "\n",
       "           state             subType  yearBuilt  yearRenovated  \\\n",
       "0        Newyork  Office, Industrial     1968.0         2005.0   \n",
       "1     California          Industrial     1943.0         2002.0   \n",
       "2        Alabama      Office, Retail     2020.0         2021.0   \n",
       "3     California          Industrial     1995.0         2010.0   \n",
       "4  Massachusetts          Industrial     1977.0         2002.0   \n",
       "\n",
       "                                            propInfo  ceilingHeight  \\\n",
       "0  available for lease,dock high & drive-in door,...           16.0   \n",
       "1  convenient location just off wilkinson blvd./ ...           16.0   \n",
       "2  new space, never previously occupied,lease rat...           16.0   \n",
       "3    listed rate may not include certain utilitie...           16.0   \n",
       "4  upgraded to led lighting,fenced and gated lay ...           16.0   \n",
       "\n",
       "         lat       lon spaceClass Warehouse_block Warehouse_city  \\\n",
       "0  40.771447 -72.94663      large     Warehouse D       New York   \n",
       "1  41.686778 -83.43943     medium     Warehouse F       San Jose   \n",
       "2  35.248292 -80.82748     medium     Warehouse A     Birmingham   \n",
       "3  36.080707 -80.02440      small     Warehouse B       San Jose   \n",
       "4  40.627946 -73.94552     medium     Warehouse C         Boston   \n",
       "\n",
       "  Mode_of_Shipment Name of charged warehouse's employee LOADING_DATE  \\\n",
       "0              Air                         Carys Mathis   2021-05-27   \n",
       "1              Air                       Martina Weaver   2021-05-27   \n",
       "2              Air                          Bethan Chen   2021-04-20   \n",
       "3              Air                         Taya Collins   2021-05-28   \n",
       "4              Air                         India Curtis   2021-05-27   \n",
       "\n",
       "  DELIVERED_TO_WAREHOUSE_DATE  \n",
       "0                  2021-06-24  \n",
       "1                  2021-06-24  \n",
       "2                  2021-05-18  \n",
       "3                  2021-06-25  \n",
       "4                  2021-06-24  "
      ]
     },
     "execution_count": 2,
     "metadata": {},
     "output_type": "execute_result"
    }
   ],
   "source": [
    "# read data\n",
    "df = pd.read_csv('../Data/Warehouse.csv')\n",
    "df.head()"
   ]
  },
  {
   "cell_type": "code",
   "execution_count": 3,
   "metadata": {},
   "outputs": [
    {
     "name": "stdout",
     "output_type": "stream",
     "text": [
      "<class 'pandas.core.frame.DataFrame'>\n",
      "RangeIndex: 10023 entries, 0 to 10022\n",
      "Data columns (total 20 columns):\n",
      " #   Column                                Non-Null Count  Dtype  \n",
      "---  ------                                --------------  -----  \n",
      " 0   buildingSize                          10023 non-null  float64\n",
      " 1   listingDate                           10023 non-null  object \n",
      " 2   propType                              10023 non-null  object \n",
      " 3   spaceAvailable                        10023 non-null  float64\n",
      " 4   spaces                                10023 non-null  float64\n",
      " 5   state                                 10023 non-null  object \n",
      " 6   subType                               10023 non-null  object \n",
      " 7   yearBuilt                             10023 non-null  float64\n",
      " 8   yearRenovated                         10023 non-null  float64\n",
      " 9   propInfo                              10023 non-null  object \n",
      " 10  ceilingHeight                         10023 non-null  float64\n",
      " 11  lat                                   10023 non-null  float64\n",
      " 12  lon                                   10023 non-null  float64\n",
      " 13  spaceClass                            10023 non-null  object \n",
      " 14  Warehouse_block                       10023 non-null  object \n",
      " 15  Warehouse_city                        10023 non-null  object \n",
      " 16  Mode_of_Shipment                      10023 non-null  object \n",
      " 17  Name of charged warehouse's employee  10023 non-null  object \n",
      " 18  LOADING_DATE                          10023 non-null  object \n",
      " 19  DELIVERED_TO_WAREHOUSE_DATE           10023 non-null  object \n",
      "dtypes: float64(8), object(12)\n",
      "memory usage: 1.5+ MB\n"
     ]
    }
   ],
   "source": [
    "df.info()"
   ]
  },
  {
   "cell_type": "code",
   "execution_count": 4,
   "metadata": {},
   "outputs": [
    {
     "data": {
      "image/png": "[encoded data removed]",
      "text/plain": [
       "<Figure size 720x432 with 1 Axes>"
      ]
     },
     "metadata": {
      "needs_background": "light"
     },
     "output_type": "display_data"
    }
   ],
   "source": [
    "# vẽ số lượng các kho ở mỗi khu vực thành phố\n",
    "plt.figure(figsize=(10, 6))\n",
    "sns.countplot(x='Warehouse_city', data=df)\n",
    "plt.title('Số lượng các kho ở mỗi thành phố')\n",
    "plt.show()"
   ]
  },
  {
   "attachments": {},
   "cell_type": "markdown",
   "metadata": {},
   "source": [
    "Nhận xét: ta thấy San jose là thành phố có nhiều kho nhất (khoảng 5000 kho), trong khi các kho còn lại chỉ có khoảng 1700. "
   ]
  },
  {
   "cell_type": "code",
   "execution_count": 6,
   "metadata": {},
   "outputs": [
    {
     "data": {
      "image/png": "[encoded data removed]",
      "text/plain": [
       "<Figure size 720x432 with 1 Axes>"
      ]
     },
     "metadata": {
      "needs_background": "light"
     },
     "output_type": "display_data"
    }
   ],
   "source": [
    "# vẽ các spaceClass của mỗi Warehouse_block\n",
    "plt.figure(figsize=(10, 6))\n",
    "sns.countplot(x='Warehouse_block', hue='spaceClass', data=df)\n",
    "plt.title('Các spaceClass của mỗi Warehouse_block')\n",
    "plt.show()"
   ]
  },
  {
   "attachments": {},
   "cell_type": "markdown",
   "metadata": {},
   "source": [
    "Nhận xét: ta thấy kho B có kích thước loại nhỏ, kho D có kích thước loại lớn, các kho còn lại là kho A, C, F có kích thước loại trung bình."
   ]
  },
  {
   "cell_type": "code",
   "execution_count": null,
   "metadata": {},
   "outputs": [],
   "source": []
  }
 ],
 "metadata": {
  "kernelspec": {
   "display_name": "base",
   "language": "python",
   "name": "python3"
  },
  "language_info": {
   "codemirror_mode": {
    "name": "ipython",
    "version": 3
   },
   "file_extension": ".py",
   "mimetype": "text/x-python",
   "name": "python",
   "nbconvert_exporter": "python",
   "pygments_lexer": "ipython3",
   "version": "3.9.12"
  },
  "orig_nbformat": 4
 },
 "nbformat": 4,
 "nbformat_minor": 2
}
